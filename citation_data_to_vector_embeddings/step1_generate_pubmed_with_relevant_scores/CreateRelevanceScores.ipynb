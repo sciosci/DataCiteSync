{
 "cells": [
  {
   "cell_type": "code",
   "execution_count": 1,
   "id": "b6368c62-9340-413b-9295-591882ab9ff9",
   "metadata": {},
   "outputs": [],
   "source": [
    "import os\n",
    "directory = '/home/ubuntu/mypetalibrary/pmoa-cite-dataset/extracted_files/1'\n",
    "files = os.listdir(directory)\n",
    "files.sort()\n",
    "first_file = os.path.join(directory, files[0])"
   ]
  },
  {
   "cell_type": "code",
   "execution_count": 3,
   "id": "74a57be4-8dca-45c5-8299-18ba6301ac45",
   "metadata": {},
   "outputs": [
    {
     "name": "stderr",
     "output_type": "stream",
     "text": [
      "Setting default log level to \"WARN\".\n",
      "To adjust logging level use sc.setLogLevel(newLevel). For SparkR, use setLogLevel(newLevel).\n",
      "24/04/05 08:08:58 WARN NativeCodeLoader: Unable to load native-hadoop library for your platform... using builtin-java classes where applicable\n",
      "                                                                                \r"
     ]
    },
    {
     "name": "stdout",
     "output_type": "stream",
     "text": [
      "root\n",
      " |-- pmid: string (nullable = true)\n",
      " |-- secid: long (nullable = true)\n",
      " |-- paraid: long (nullable = true)\n",
      " |-- sentid: long (nullable = true)\n",
      " |-- sentence: string (nullable = true)\n",
      " |-- has_citations: long (nullable = true)\n",
      " |-- citations: string (nullable = true)\n",
      " |-- __index_level_0__: long (nullable = true)\n",
      "\n"
     ]
    },
    {
     "name": "stderr",
     "output_type": "stream",
     "text": [
      "                                                                                \r"
     ]
    },
    {
     "name": "stdout",
     "output_type": "stream",
     "text": [
      "+--------+-----+------+------+--------------------+-------------+-----------------+-----------------+\n",
      "|    pmid|secid|paraid|sentid|            sentence|has_citations|        citations|__index_level_0__|\n",
      "+--------+-----+------+------+--------------------+-------------+-----------------+-----------------+\n",
      "|33313032|    0|     0|     0|India has the sec...|            0|                 |                0|\n",
      "|33313032|    0|     0|     1|More than 77 mill...|            1|         21959957|                1|\n",
      "|33313032|    0|     0|     2|These people are ...|            0|                 |                2|\n",
      "|33313032|    0|     0|     3|Unhealthy lifesty...|            0|                 |                3|\n",
      "|33313032|    0|     0|     4|Physical activity...|            1|         24571915|                4|\n",
      "|33313032|    0|     0|     5|Similarly, unheal...|            1|27501784,29459786|                5|\n",
      "|33313032|    0|     0|     6|Screening of peop...|            1|         25748739|                6|\n",
      "|33313032|    0|     1|     0|Health interventi...|            0|                 |                7|\n",
      "|33313032|    0|     1|     1|The prevention an...|            1|         26649240|                8|\n",
      "|33313032|    0|     1|     2|Yoga, an ancient ...|            0|                 |                9|\n",
      "|33313032|    0|     1|     3|Many different st...|            0|                 |               10|\n",
      "|33313032|    0|     1|     4|No particular sty...|            0|                 |               11|\n",
      "|33313032|    0|     1|     5|Indians usually h...|            1|21773016,25458336|               12|\n",
      "|33313032|    0|     1|     6|Generally, it use...|            1|         21773016|               13|\n",
      "|33313032|    0|     1|     7|It can be practic...|            1|         21773016|               14|\n",
      "|33313032|    0|     1|     8|As a form of phys...|            0|                 |               15|\n",
      "|33313032|    0|     1|     9|For example, Sury...|            1|21665111,15521557|               16|\n",
      "|33313032|    0|     1|    10|Yoga is also a mu...|            0|                 |               17|\n",
      "|33313032|    0|     1|    11|Thus, it can cont...|            0|                 |               18|\n",
      "|33313032|    0|     2|     0|The beneficial ef...|            0|                 |               19|\n",
      "+--------+-----+------+------+--------------------+-------------+-----------------+-----------------+\n",
      "only showing top 20 rows\n",
      "\n"
     ]
    }
   ],
   "source": [
    "from pyspark.sql import SparkSession\n",
    "spark = SparkSession.builder \\\n",
    "    .appName(\"Read PubMed Parquet Files\") \\\n",
    "    .getOrCreate()\n",
    "df = spark.read.parquet(first_file)\n",
    "df.printSchema()\n",
    "df.show()\n",
    "# spark.stop()"
   ]
  },
  {
   "cell_type": "code",
   "execution_count": 4,
   "id": "5e2dc1e5-76a8-427c-9674-0a43f24f1425",
   "metadata": {},
   "outputs": [
    {
     "name": "stderr",
     "output_type": "stream",
     "text": [
      "                                                                                \r"
     ]
    },
    {
     "data": {
      "text/html": [
       "<div>\n",
       "<style scoped>\n",
       "    .dataframe tbody tr th:only-of-type {\n",
       "        vertical-align: middle;\n",
       "    }\n",
       "\n",
       "    .dataframe tbody tr th {\n",
       "        vertical-align: top;\n",
       "    }\n",
       "\n",
       "    .dataframe thead th {\n",
       "        text-align: right;\n",
       "    }\n",
       "</style>\n",
       "<table border=\"1\" class=\"dataframe\">\n",
       "  <thead>\n",
       "    <tr style=\"text-align: right;\">\n",
       "      <th></th>\n",
       "      <th>pmid</th>\n",
       "      <th>secid</th>\n",
       "      <th>paraid</th>\n",
       "      <th>sentid</th>\n",
       "      <th>sentence</th>\n",
       "      <th>has_citations</th>\n",
       "      <th>citations</th>\n",
       "      <th>__index_level_0__</th>\n",
       "    </tr>\n",
       "  </thead>\n",
       "  <tbody>\n",
       "    <tr>\n",
       "      <th>0</th>\n",
       "      <td>33313032</td>\n",
       "      <td>0</td>\n",
       "      <td>0</td>\n",
       "      <td>1</td>\n",
       "      <td>More than 77 million Indians are at high-risk ...</td>\n",
       "      <td>1</td>\n",
       "      <td>21959957</td>\n",
       "      <td>1</td>\n",
       "    </tr>\n",
       "    <tr>\n",
       "      <th>1</th>\n",
       "      <td>33313032</td>\n",
       "      <td>0</td>\n",
       "      <td>0</td>\n",
       "      <td>4</td>\n",
       "      <td>Physical activity levels are low among Indians .</td>\n",
       "      <td>1</td>\n",
       "      <td>24571915</td>\n",
       "      <td>4</td>\n",
       "    </tr>\n",
       "    <tr>\n",
       "      <th>2</th>\n",
       "      <td>33313032</td>\n",
       "      <td>0</td>\n",
       "      <td>0</td>\n",
       "      <td>5</td>\n",
       "      <td>Similarly, unhealthy diets, high in fat (espec...</td>\n",
       "      <td>1</td>\n",
       "      <td>27501784,29459786</td>\n",
       "      <td>5</td>\n",
       "    </tr>\n",
       "    <tr>\n",
       "      <th>3</th>\n",
       "      <td>33313032</td>\n",
       "      <td>0</td>\n",
       "      <td>0</td>\n",
       "      <td>6</td>\n",
       "      <td>Screening of people who are at high-risk of T2...</td>\n",
       "      <td>1</td>\n",
       "      <td>25748739</td>\n",
       "      <td>6</td>\n",
       "    </tr>\n",
       "    <tr>\n",
       "      <th>4</th>\n",
       "      <td>33313032</td>\n",
       "      <td>0</td>\n",
       "      <td>1</td>\n",
       "      <td>1</td>\n",
       "      <td>The prevention and management of chronic disea...</td>\n",
       "      <td>1</td>\n",
       "      <td>26649240</td>\n",
       "      <td>8</td>\n",
       "    </tr>\n",
       "  </tbody>\n",
       "</table>\n",
       "</div>"
      ],
      "text/plain": [
       "       pmid  secid  paraid  sentid  \\\n",
       "0  33313032      0       0       1   \n",
       "1  33313032      0       0       4   \n",
       "2  33313032      0       0       5   \n",
       "3  33313032      0       0       6   \n",
       "4  33313032      0       1       1   \n",
       "\n",
       "                                            sentence  has_citations  \\\n",
       "0  More than 77 million Indians are at high-risk ...              1   \n",
       "1   Physical activity levels are low among Indians .              1   \n",
       "2  Similarly, unhealthy diets, high in fat (espec...              1   \n",
       "3  Screening of people who are at high-risk of T2...              1   \n",
       "4  The prevention and management of chronic disea...              1   \n",
       "\n",
       "           citations  __index_level_0__  \n",
       "0           21959957                  1  \n",
       "1           24571915                  4  \n",
       "2  27501784,29459786                  5  \n",
       "3           25748739                  6  \n",
       "4           26649240                  8  "
      ]
     },
     "execution_count": 4,
     "metadata": {},
     "output_type": "execute_result"
    }
   ],
   "source": [
    "df.createOrReplaceTempView(\"pubmed_data\")\n",
    "query = \"SELECT * FROM pubmed_data WHERE has_citations==1\"\n",
    "result = spark.sql(query)\n",
    "# result.show()\n",
    "pandas_df = result.toPandas()\n",
    "pandas_df.head()"
   ]
  },
  {
   "cell_type": "code",
   "execution_count": 5,
   "id": "fbf2fe9f-be4a-4508-8155-ae2756870e53",
   "metadata": {},
   "outputs": [
    {
     "data": {
      "text/plain": [
       "97630"
      ]
     },
     "execution_count": 5,
     "metadata": {},
     "output_type": "execute_result"
    }
   ],
   "source": [
    "pandas_df.drop(columns=['__index_level_0__','has_citations'],inplace=True)\n",
    "len(pandas_df)"
   ]
  },
  {
   "cell_type": "code",
   "execution_count": 6,
   "id": "b16924a6-3cc3-44f7-adaf-ba54a2ebfff7",
   "metadata": {},
   "outputs": [
    {
     "data": {
      "text/html": [
       "<div>\n",
       "<style scoped>\n",
       "    .dataframe tbody tr th:only-of-type {\n",
       "        vertical-align: middle;\n",
       "    }\n",
       "\n",
       "    .dataframe tbody tr th {\n",
       "        vertical-align: top;\n",
       "    }\n",
       "\n",
       "    .dataframe thead th {\n",
       "        text-align: right;\n",
       "    }\n",
       "</style>\n",
       "<table border=\"1\" class=\"dataframe\">\n",
       "  <thead>\n",
       "    <tr style=\"text-align: right;\">\n",
       "      <th></th>\n",
       "      <th>pmid</th>\n",
       "      <th>secid</th>\n",
       "      <th>paraid</th>\n",
       "      <th>sentid</th>\n",
       "      <th>sentence</th>\n",
       "      <th>citations</th>\n",
       "    </tr>\n",
       "  </thead>\n",
       "  <tbody>\n",
       "    <tr>\n",
       "      <th>0</th>\n",
       "      <td>33313032</td>\n",
       "      <td>0</td>\n",
       "      <td>0</td>\n",
       "      <td>1</td>\n",
       "      <td>More than 77 million Indians are at high-risk ...</td>\n",
       "      <td>21959957</td>\n",
       "    </tr>\n",
       "    <tr>\n",
       "      <th>1</th>\n",
       "      <td>33313032</td>\n",
       "      <td>0</td>\n",
       "      <td>0</td>\n",
       "      <td>4</td>\n",
       "      <td>Physical activity levels are low among Indians .</td>\n",
       "      <td>24571915</td>\n",
       "    </tr>\n",
       "    <tr>\n",
       "      <th>2</th>\n",
       "      <td>33313032</td>\n",
       "      <td>0</td>\n",
       "      <td>0</td>\n",
       "      <td>5</td>\n",
       "      <td>Similarly, unhealthy diets, high in fat (espec...</td>\n",
       "      <td>27501784</td>\n",
       "    </tr>\n",
       "    <tr>\n",
       "      <th>2</th>\n",
       "      <td>33313032</td>\n",
       "      <td>0</td>\n",
       "      <td>0</td>\n",
       "      <td>5</td>\n",
       "      <td>Similarly, unhealthy diets, high in fat (espec...</td>\n",
       "      <td>29459786</td>\n",
       "    </tr>\n",
       "    <tr>\n",
       "      <th>3</th>\n",
       "      <td>33313032</td>\n",
       "      <td>0</td>\n",
       "      <td>0</td>\n",
       "      <td>6</td>\n",
       "      <td>Screening of people who are at high-risk of T2...</td>\n",
       "      <td>25748739</td>\n",
       "    </tr>\n",
       "  </tbody>\n",
       "</table>\n",
       "</div>"
      ],
      "text/plain": [
       "       pmid  secid  paraid  sentid  \\\n",
       "0  33313032      0       0       1   \n",
       "1  33313032      0       0       4   \n",
       "2  33313032      0       0       5   \n",
       "2  33313032      0       0       5   \n",
       "3  33313032      0       0       6   \n",
       "\n",
       "                                            sentence citations  \n",
       "0  More than 77 million Indians are at high-risk ...  21959957  \n",
       "1   Physical activity levels are low among Indians .  24571915  \n",
       "2  Similarly, unhealthy diets, high in fat (espec...  27501784  \n",
       "2  Similarly, unhealthy diets, high in fat (espec...  29459786  \n",
       "3  Screening of people who are at high-risk of T2...  25748739  "
      ]
     },
     "execution_count": 6,
     "metadata": {},
     "output_type": "execute_result"
    }
   ],
   "source": [
    "from copy import deepcopy\n",
    "import pandas as pd\n",
    "updated_data = []\n",
    "\n",
    "for idx,row in pandas_df.iterrows():\n",
    "    citations = row['citations'].split(',')\n",
    "    for citation in citations:\n",
    "        new_row = deepcopy(row)\n",
    "        new_row['citations']=citation\n",
    "        updated_data.append(new_row)\n",
    "updated_df = pd.DataFrame(updated_data)\n",
    "updated_df.head()"
   ]
  },
  {
   "cell_type": "code",
   "execution_count": 7,
   "id": "7e0cfacd-14b8-4b45-aa4a-85869dcbf2ca",
   "metadata": {},
   "outputs": [
    {
     "data": {
      "text/plain": [
       "4992"
      ]
     },
     "execution_count": 7,
     "metadata": {},
     "output_type": "execute_result"
    }
   ],
   "source": [
    "all_curr_pmids = list(set(updated_df['pmid'].values))\n",
    "len(all_curr_pmids)"
   ]
  },
  {
   "cell_type": "code",
   "execution_count": 8,
   "id": "4058dbff-3a8c-4001-a4a5-f2db177ab8ed",
   "metadata": {},
   "outputs": [
    {
     "data": {
      "text/plain": [
       "153261"
      ]
     },
     "execution_count": 8,
     "metadata": {},
     "output_type": "execute_result"
    }
   ],
   "source": [
    "# Score 3: Perfectly relevant list  ---- 10%\n",
    "perfectly_relevant_df = deepcopy(updated_df)\n",
    "len(perfectly_relevant_df)"
   ]
  },
  {
   "cell_type": "code",
   "execution_count": 9,
   "id": "e61be5a4-920f-499e-850b-44f4511a5d9d",
   "metadata": {},
   "outputs": [],
   "source": [
    "# Generate paragraph citations pairs\n",
    "from collections import defaultdict\n",
    "paragraph_pairs = defaultdict(lambda: defaultdict(set))\n",
    "for idx,row in perfectly_relevant_df.iterrows():\n",
    "    paragraph_pairs[row['pmid']][row['paraid']].add(row['citations'])"
   ]
  },
  {
   "cell_type": "code",
   "execution_count": 10,
   "id": "2bf58c05-fd32-4a6b-a0fa-3f41fbb399d2",
   "metadata": {},
   "outputs": [
    {
     "data": {
      "text/plain": [
       "defaultdict(set,\n",
       "            {0: {'15521557',\n",
       "              '21665111',\n",
       "              '21959957',\n",
       "              '23082079',\n",
       "              '24571915',\n",
       "              '24609605',\n",
       "              '25748739',\n",
       "              '27501784',\n",
       "              '27547170',\n",
       "              '29207699',\n",
       "              '29459786'},\n",
       "             1: {'15521557', '21665111', '21773016', '25458336', '26649240'},\n",
       "             3: {'18651193', '24636547', '24661723', '29207699', '32895271'},\n",
       "             2: {'19622551', '24636547', '27062957', '27370357', '31186666'}})"
      ]
     },
     "execution_count": 10,
     "metadata": {},
     "output_type": "execute_result"
    }
   ],
   "source": [
    "paragraph_pairs['33313032']"
   ]
  },
  {
   "cell_type": "code",
   "execution_count": 12,
   "id": "98b00119-df36-4b23-af9c-2d3eb1ca5f54",
   "metadata": {},
   "outputs": [
    {
     "data": {
      "text/html": [
       "<div>\n",
       "<style scoped>\n",
       "    .dataframe tbody tr th:only-of-type {\n",
       "        vertical-align: middle;\n",
       "    }\n",
       "\n",
       "    .dataframe tbody tr th {\n",
       "        vertical-align: top;\n",
       "    }\n",
       "\n",
       "    .dataframe thead th {\n",
       "        text-align: right;\n",
       "    }\n",
       "</style>\n",
       "<table border=\"1\" class=\"dataframe\">\n",
       "  <thead>\n",
       "    <tr style=\"text-align: right;\">\n",
       "      <th></th>\n",
       "      <th>pmid</th>\n",
       "      <th>secid</th>\n",
       "      <th>paraid</th>\n",
       "      <th>sentid</th>\n",
       "      <th>sentence</th>\n",
       "      <th>citations</th>\n",
       "    </tr>\n",
       "  </thead>\n",
       "  <tbody>\n",
       "    <tr>\n",
       "      <th>0</th>\n",
       "      <td>33313032</td>\n",
       "      <td>0</td>\n",
       "      <td>0</td>\n",
       "      <td>1</td>\n",
       "      <td>More than 77 million Indians are at high-risk ...</td>\n",
       "      <td>24609605</td>\n",
       "    </tr>\n",
       "    <tr>\n",
       "      <th>0</th>\n",
       "      <td>33313032</td>\n",
       "      <td>0</td>\n",
       "      <td>0</td>\n",
       "      <td>1</td>\n",
       "      <td>More than 77 million Indians are at high-risk ...</td>\n",
       "      <td>29207699</td>\n",
       "    </tr>\n",
       "    <tr>\n",
       "      <th>1</th>\n",
       "      <td>33313032</td>\n",
       "      <td>0</td>\n",
       "      <td>0</td>\n",
       "      <td>4</td>\n",
       "      <td>Physical activity levels are low among Indians .</td>\n",
       "      <td>15521557</td>\n",
       "    </tr>\n",
       "    <tr>\n",
       "      <th>1</th>\n",
       "      <td>33313032</td>\n",
       "      <td>0</td>\n",
       "      <td>0</td>\n",
       "      <td>4</td>\n",
       "      <td>Physical activity levels are low among Indians .</td>\n",
       "      <td>27547170</td>\n",
       "    </tr>\n",
       "    <tr>\n",
       "      <th>2</th>\n",
       "      <td>33313032</td>\n",
       "      <td>0</td>\n",
       "      <td>0</td>\n",
       "      <td>5</td>\n",
       "      <td>Similarly, unhealthy diets, high in fat (espec...</td>\n",
       "      <td>24609605</td>\n",
       "    </tr>\n",
       "  </tbody>\n",
       "</table>\n",
       "</div>"
      ],
      "text/plain": [
       "       pmid  secid  paraid  sentid  \\\n",
       "0  33313032      0       0       1   \n",
       "0  33313032      0       0       1   \n",
       "1  33313032      0       0       4   \n",
       "1  33313032      0       0       4   \n",
       "2  33313032      0       0       5   \n",
       "\n",
       "                                            sentence citations  \n",
       "0  More than 77 million Indians are at high-risk ...  24609605  \n",
       "0  More than 77 million Indians are at high-risk ...  29207699  \n",
       "1   Physical activity levels are low among Indians .  15521557  \n",
       "1   Physical activity levels are low among Indians .  27547170  \n",
       "2  Similarly, unhealthy diets, high in fat (espec...  24609605  "
      ]
     },
     "execution_count": 12,
     "metadata": {},
     "output_type": "execute_result"
    }
   ],
   "source": [
    "# Score 2: Somewhat relevant list   --- 20%\n",
    "# Same paragraph different sentence\n",
    "import random\n",
    "somewhat_relevant_data = []\n",
    "for idx,row in perfectly_relevant_df.iterrows():\n",
    "    row1 = deepcopy(row)\n",
    "    row2 = deepcopy(row)\n",
    "\n",
    "    # Do computation\n",
    "    same_paragraph_citations = list(paragraph_pairs[row['pmid']][row['paraid']])\n",
    "    \n",
    "    same_paragraph_citations.remove(row['citations'])\n",
    "\n",
    "\n",
    "    # Shuffling the list for maximum randomazation\n",
    "    random.shuffle(same_paragraph_citations)\n",
    "\n",
    "    # Appending the list based on length\n",
    "    if len(same_paragraph_citations)>=1:\n",
    "        row1['citations'] = same_paragraph_citations[0]\n",
    "        somewhat_relevant_data.append(row1)\n",
    "        \n",
    "    if len(same_paragraph_citations)>1:\n",
    "        row2['citations'] = same_paragraph_citations[1]\n",
    "        somewhat_relevant_data.append(row2)\n",
    "    \n",
    "    \n",
    "\n",
    "somewhat_relevant_df = pd.DataFrame(somewhat_relevant_data)\n",
    "somewhat_relevant_df.head()"
   ]
  },
  {
   "cell_type": "code",
   "execution_count": 13,
   "id": "e4ffe645-a236-4fe1-bb1f-b55658488f89",
   "metadata": {},
   "outputs": [
    {
     "name": "stdout",
     "output_type": "stream",
     "text": [
      "4992\n"
     ]
    }
   ],
   "source": [
    "# Generate other paragraphs citations\n",
    "other_paragraphs_list = defaultdict(lambda: defaultdict(set))\n",
    "\n",
    "for citation in paragraph_pairs.keys():\n",
    "    all_cites = set()\n",
    "    all_para_ids = paragraph_pairs[citation].keys()\n",
    "    for para_id in all_para_ids:\n",
    "        all_cites|= paragraph_pairs[citation][para_id]\n",
    "    for para_id in all_para_ids:\n",
    "        diff =  all_cites.difference(paragraph_pairs[citation][para_id])\n",
    "        other_paragraphs_list[citation][para_id] = diff\n",
    "        \n",
    "print(len(other_paragraphs_list))"
   ]
  },
  {
   "cell_type": "code",
   "execution_count": 14,
   "id": "699efa1e-0950-4f1f-92cd-20d442fd379e",
   "metadata": {},
   "outputs": [
    {
     "data": {
      "text/html": [
       "<div>\n",
       "<style scoped>\n",
       "    .dataframe tbody tr th:only-of-type {\n",
       "        vertical-align: middle;\n",
       "    }\n",
       "\n",
       "    .dataframe tbody tr th {\n",
       "        vertical-align: top;\n",
       "    }\n",
       "\n",
       "    .dataframe thead th {\n",
       "        text-align: right;\n",
       "    }\n",
       "</style>\n",
       "<table border=\"1\" class=\"dataframe\">\n",
       "  <thead>\n",
       "    <tr style=\"text-align: right;\">\n",
       "      <th></th>\n",
       "      <th>pmid</th>\n",
       "      <th>secid</th>\n",
       "      <th>paraid</th>\n",
       "      <th>sentid</th>\n",
       "      <th>sentence</th>\n",
       "      <th>citations</th>\n",
       "    </tr>\n",
       "  </thead>\n",
       "  <tbody>\n",
       "    <tr>\n",
       "      <th>0</th>\n",
       "      <td>33313032</td>\n",
       "      <td>0</td>\n",
       "      <td>0</td>\n",
       "      <td>1</td>\n",
       "      <td>More than 77 million Indians are at high-risk ...</td>\n",
       "      <td>18651193</td>\n",
       "    </tr>\n",
       "    <tr>\n",
       "      <th>0</th>\n",
       "      <td>33313032</td>\n",
       "      <td>0</td>\n",
       "      <td>0</td>\n",
       "      <td>1</td>\n",
       "      <td>More than 77 million Indians are at high-risk ...</td>\n",
       "      <td>32895271</td>\n",
       "    </tr>\n",
       "    <tr>\n",
       "      <th>0</th>\n",
       "      <td>33313032</td>\n",
       "      <td>0</td>\n",
       "      <td>0</td>\n",
       "      <td>1</td>\n",
       "      <td>More than 77 million Indians are at high-risk ...</td>\n",
       "      <td>19622551</td>\n",
       "    </tr>\n",
       "    <tr>\n",
       "      <th>1</th>\n",
       "      <td>33313032</td>\n",
       "      <td>0</td>\n",
       "      <td>0</td>\n",
       "      <td>4</td>\n",
       "      <td>Physical activity levels are low among Indians .</td>\n",
       "      <td>24661723</td>\n",
       "    </tr>\n",
       "    <tr>\n",
       "      <th>1</th>\n",
       "      <td>33313032</td>\n",
       "      <td>0</td>\n",
       "      <td>0</td>\n",
       "      <td>4</td>\n",
       "      <td>Physical activity levels are low among Indians .</td>\n",
       "      <td>21773016</td>\n",
       "    </tr>\n",
       "  </tbody>\n",
       "</table>\n",
       "</div>"
      ],
      "text/plain": [
       "       pmid  secid  paraid  sentid  \\\n",
       "0  33313032      0       0       1   \n",
       "0  33313032      0       0       1   \n",
       "0  33313032      0       0       1   \n",
       "1  33313032      0       0       4   \n",
       "1  33313032      0       0       4   \n",
       "\n",
       "                                            sentence citations  \n",
       "0  More than 77 million Indians are at high-risk ...  18651193  \n",
       "0  More than 77 million Indians are at high-risk ...  32895271  \n",
       "0  More than 77 million Indians are at high-risk ...  19622551  \n",
       "1   Physical activity levels are low among Indians .  24661723  \n",
       "1   Physical activity levels are low among Indians .  21773016  "
      ]
     },
     "execution_count": 14,
     "metadata": {},
     "output_type": "execute_result"
    }
   ],
   "source": [
    "# Score 1: Slightly relevant list   --- 30%\n",
    "# Different paragraph\n",
    "slightly_relevant_data = []\n",
    "for idx,row in perfectly_relevant_df.iterrows():\n",
    "    row1 = deepcopy(row)\n",
    "    row2 = deepcopy(row)\n",
    "    row3 = deepcopy(row)\n",
    "    # Do computation\n",
    "    other_paragraph_citations = list(other_paragraphs_list[row['pmid']][row['paraid']])\n",
    "\n",
    "    \n",
    "    # Shuffling the list for maximum randomazation\n",
    "    random.shuffle(other_paragraph_citations)\n",
    "\n",
    "    # Appending the list based on length\n",
    "    if len(other_paragraph_citations)>=1:\n",
    "        row1['citations'] = other_paragraph_citations[0]\n",
    "        slightly_relevant_data.append(row1)\n",
    "        \n",
    "    if len(other_paragraph_citations)>1:\n",
    "        row2['citations'] = other_paragraph_citations[1]\n",
    "        slightly_relevant_data.append(row2)\n",
    "\n",
    "    if len(other_paragraph_citations)>2:\n",
    "        row3['citations'] = other_paragraph_citations[2]\n",
    "        slightly_relevant_data.append(row3)\n",
    "    \n",
    "\n",
    "slightly_relevant_df = pd.DataFrame(slightly_relevant_data)\n",
    "slightly_relevant_df.head()"
   ]
  },
  {
   "cell_type": "code",
   "execution_count": 15,
   "id": "c6822447-3f33-46dc-aa72-7682dc91dd73",
   "metadata": {},
   "outputs": [
    {
     "data": {
      "text/plain": [
       "447886"
      ]
     },
     "execution_count": 15,
     "metadata": {},
     "output_type": "execute_result"
    }
   ],
   "source": [
    "len(slightly_relevant_df)"
   ]
  },
  {
   "cell_type": "code",
   "execution_count": 16,
   "id": "488c9064-f939-4af5-ba4a-9bd61010a780",
   "metadata": {},
   "outputs": [
    {
     "data": {
      "text/html": [
       "<div>\n",
       "<style scoped>\n",
       "    .dataframe tbody tr th:only-of-type {\n",
       "        vertical-align: middle;\n",
       "    }\n",
       "\n",
       "    .dataframe tbody tr th {\n",
       "        vertical-align: top;\n",
       "    }\n",
       "\n",
       "    .dataframe thead th {\n",
       "        text-align: right;\n",
       "    }\n",
       "</style>\n",
       "<table border=\"1\" class=\"dataframe\">\n",
       "  <thead>\n",
       "    <tr style=\"text-align: right;\">\n",
       "      <th></th>\n",
       "      <th>pmid</th>\n",
       "      <th>secid</th>\n",
       "      <th>paraid</th>\n",
       "      <th>sentid</th>\n",
       "      <th>sentence</th>\n",
       "      <th>citations</th>\n",
       "    </tr>\n",
       "  </thead>\n",
       "  <tbody>\n",
       "    <tr>\n",
       "      <th>0</th>\n",
       "      <td>33313032</td>\n",
       "      <td>0</td>\n",
       "      <td>0</td>\n",
       "      <td>1</td>\n",
       "      <td>More than 77 million Indians are at high-risk ...</td>\n",
       "      <td>24363967</td>\n",
       "    </tr>\n",
       "    <tr>\n",
       "      <th>0</th>\n",
       "      <td>33313032</td>\n",
       "      <td>0</td>\n",
       "      <td>0</td>\n",
       "      <td>1</td>\n",
       "      <td>More than 77 million Indians are at high-risk ...</td>\n",
       "      <td>28056765</td>\n",
       "    </tr>\n",
       "    <tr>\n",
       "      <th>0</th>\n",
       "      <td>33313032</td>\n",
       "      <td>0</td>\n",
       "      <td>0</td>\n",
       "      <td>1</td>\n",
       "      <td>More than 77 million Indians are at high-risk ...</td>\n",
       "      <td>24829583</td>\n",
       "    </tr>\n",
       "    <tr>\n",
       "      <th>0</th>\n",
       "      <td>33313032</td>\n",
       "      <td>0</td>\n",
       "      <td>0</td>\n",
       "      <td>1</td>\n",
       "      <td>More than 77 million Indians are at high-risk ...</td>\n",
       "      <td>33976755</td>\n",
       "    </tr>\n",
       "    <tr>\n",
       "      <th>1</th>\n",
       "      <td>33313032</td>\n",
       "      <td>0</td>\n",
       "      <td>0</td>\n",
       "      <td>4</td>\n",
       "      <td>Physical activity levels are low among Indians .</td>\n",
       "      <td>29849850</td>\n",
       "    </tr>\n",
       "  </tbody>\n",
       "</table>\n",
       "</div>"
      ],
      "text/plain": [
       "       pmid  secid  paraid  sentid  \\\n",
       "0  33313032      0       0       1   \n",
       "0  33313032      0       0       1   \n",
       "0  33313032      0       0       1   \n",
       "0  33313032      0       0       1   \n",
       "1  33313032      0       0       4   \n",
       "\n",
       "                                            sentence citations  \n",
       "0  More than 77 million Indians are at high-risk ...  24363967  \n",
       "0  More than 77 million Indians are at high-risk ...  28056765  \n",
       "0  More than 77 million Indians are at high-risk ...  24829583  \n",
       "0  More than 77 million Indians are at high-risk ...  33976755  \n",
       "1   Physical activity levels are low among Indians .  29849850  "
      ]
     },
     "execution_count": 16,
     "metadata": {},
     "output_type": "execute_result"
    }
   ],
   "source": [
    "# Score 0: Irrelevant list --- 40%\n",
    "import random\n",
    "irrelevant_data = []\n",
    "for idx,row in perfectly_relevant_df.iterrows():\n",
    "    irrelevant_cites = []\n",
    "    for _ in range(4):\n",
    "        while True:\n",
    "            pmid = random.choice(all_curr_pmids)\n",
    "            if pmid not in irrelevant_cites:\n",
    "                break\n",
    "        irrelevant_cites.append(pmid)\n",
    "        new_row = deepcopy(row)\n",
    "        new_row['citations']=pmid\n",
    "        irrelevant_data.append(new_row)\n",
    "\n",
    "irrelevant_df = pd.DataFrame(irrelevant_data)\n",
    "irrelevant_df.head()"
   ]
  },
  {
   "cell_type": "code",
   "execution_count": 17,
   "id": "1082c902-a2d5-43c6-82c8-c0948720b9b1",
   "metadata": {},
   "outputs": [
    {
     "data": {
      "text/plain": [
       "613044"
      ]
     },
     "execution_count": 17,
     "metadata": {},
     "output_type": "execute_result"
    }
   ],
   "source": [
    "len(irrelevant_df)"
   ]
  },
  {
   "cell_type": "code",
   "execution_count": 18,
   "id": "7b6c4f74-a409-4238-9b54-19774dbdec21",
   "metadata": {},
   "outputs": [],
   "source": [
    "# Adding relevance_score to all the dataframes\n",
    "perfectly_relevant_df['relevance_score']= 3\n",
    "somewhat_relevant_df['relevance_score']= 2\n",
    "slightly_relevant_df['relevance_score']= 1\n",
    "irrelevant_df['relevance_score']= 0"
   ]
  },
  {
   "cell_type": "code",
   "execution_count": 19,
   "id": "2a0be35a-e154-4122-accc-439771535155",
   "metadata": {},
   "outputs": [],
   "source": [
    "final_df_with_relevance_scores = pd.concat([perfectly_relevant_df, somewhat_relevant_df, slightly_relevant_df,irrelevant_df], ignore_index=True)"
   ]
  },
  {
   "cell_type": "code",
   "execution_count": 20,
   "id": "a94f40d6-fb52-4c84-b536-2c96c5f66939",
   "metadata": {},
   "outputs": [
    {
     "data": {
      "text/plain": [
       "1501254"
      ]
     },
     "execution_count": 20,
     "metadata": {},
     "output_type": "execute_result"
    }
   ],
   "source": [
    "len(final_df_with_relevance_scores)"
   ]
  },
  {
   "cell_type": "code",
   "execution_count": 22,
   "id": "4cd84e3e-19a4-485e-a604-7171de376b15",
   "metadata": {},
   "outputs": [],
   "source": [
    "relevance_score_path = '/home/ubuntu/mypetalibrary/pmoa-cite-dataset/aggregated_dateset/final_df_with_relevance_scores.parquet'\n",
    "final_df_with_relevance_scores.to_parquet(relevance_score_path)"
   ]
  },
  {
   "cell_type": "code",
   "execution_count": 23,
   "id": "a1882460-2190-49af-b802-4ffd2b823cc4",
   "metadata": {},
   "outputs": [
    {
     "data": {
      "text/plain": [
       "111822"
      ]
     },
     "execution_count": 23,
     "metadata": {},
     "output_type": "execute_result"
    }
   ],
   "source": [
    "from_ids = set(final_df_with_relevance_scores['pmid'].unique())\n",
    "to_ids = set(final_df_with_relevance_scores['citations'].unique())\n",
    "total_pmids = list(from_ids|to_ids)\n",
    "len(total_pmids)"
   ]
  },
  {
   "cell_type": "code",
   "execution_count": 27,
   "id": "d00ef9b3-42a7-44fa-85f5-1d28f98f482c",
   "metadata": {},
   "outputs": [],
   "source": [
    "import csv\n",
    "metadata_pmids_path = '/home/ubuntu/mypetalibrary/pmoa-cite-dataset/aggregated_dateset/metadata_pmids.csv'\n",
    "metadata_pmids_df = pd.DataFrame(total_pmids, columns=['pmids'])\n",
    "metadata_pmids_df.to_csv(metadata_pmids_path,index=False)"
   ]
  }
 ],
 "metadata": {
  "kernelspec": {
   "display_name": "Python 3 (ipykernel)",
   "language": "python",
   "name": "python3"
  },
  "language_info": {
   "codemirror_mode": {
    "name": "ipython",
    "version": 3
   },
   "file_extension": ".py",
   "mimetype": "text/x-python",
   "name": "python",
   "nbconvert_exporter": "python",
   "pygments_lexer": "ipython3",
   "version": "3.10.12"
  }
 },
 "nbformat": 4,
 "nbformat_minor": 5
}
