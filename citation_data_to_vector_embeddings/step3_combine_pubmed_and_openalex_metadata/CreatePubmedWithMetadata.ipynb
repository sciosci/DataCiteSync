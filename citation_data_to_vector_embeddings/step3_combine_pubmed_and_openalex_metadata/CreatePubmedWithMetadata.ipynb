{
 "cells": [
  {
   "cell_type": "markdown",
   "id": "86f77489-7862-4555-9c39-078c668811bb",
   "metadata": {
    "pycharm": {
     "name": "#%% md\n"
    }
   },
   "source": [
    "### Combine pubmed and metadata file"
   ]
  },
  {
   "cell_type": "code",
   "execution_count": 1,
   "id": "55d9dbba-54fa-4a6d-a587-caf42b4b71ed",
   "metadata": {
    "pycharm": {
     "name": "#%%\n"
    }
   },
   "outputs": [
    {
     "name": "stderr",
     "output_type": "stream",
     "text": [
      "Warning: Ignoring non-Spark config property: hive.exec.scratchdir\n",
      "Setting default log level to \"WARN\".\n",
      "To adjust logging level use sc.setLogLevel(newLevel). For SparkR, use setLogLevel(newLevel).\n",
      "24/04/15 16:03:32 WARN NativeCodeLoader: Unable to load native-hadoop library for your platform... using builtin-java classes where applicable\n",
      "24/04/15 16:03:32 WARN SparkConf: Note that spark.local.dir will be overridden by the value set by the cluster manager (via SPARK_LOCAL_DIRS in mesos/standalone/kubernetes and LOCAL_DIRS in YARN).\n"
     ]
    }
   ],
   "source": [
    "from pyspark.sql import SparkSession\n",
    "spark = SparkSession.builder\\\n",
    "    .config('spark.driver.memory', '50g')\\\n",
    "    .config('spark.executor.memory', '20g')\\\n",
    "    .config('spark.local.dir', '/home/ubuntu/tmp') \\\n",
    "    .config('spark.driver.maxResultSize', '100g')\\\n",
    "    .config(\"spark.sql.parquet.columnarReaderBatchSize\", \"1024\") \\\n",
    "    .config(\"spark.sql.parquet.enableVectorizedReader\", \"true\") \\\n",
    "    .config('spark.driver.extraJavaOptions', '-Djava.io.tmpdir=/home/ubuntu/tmp') \\\n",
    "    .config('spark.executor.extraJavaOptions', '-Djava.io.tmpdir=/home/ubuntu/tmp') \\\n",
    "    .config('hive.exec.scratchdir', '/home/ubuntu/tmp/hive') \\\n",
    "    .enableHiveSupport() \\\n",
    "    .getOrCreate()"
   ]
  },
  {
   "cell_type": "code",
   "execution_count": 2,
   "id": "7c2ecdb0-a41e-431d-ba76-53b267a53f46",
   "metadata": {
    "pycharm": {
     "name": "#%%\n"
    }
   },
   "outputs": [
    {
     "name": "stderr",
     "output_type": "stream",
     "text": [
      "                                                                                \r"
     ]
    },
    {
     "data": {
      "text/plain": [
       "92603"
      ]
     },
     "execution_count": 2,
     "metadata": {},
     "output_type": "execute_result"
    }
   ],
   "source": [
    "from pyspark.sql.types import IntegerType, StringType\n",
    "# Input the relevant metada file path here\n",
    "metadata_path = \"final_metadata_combined.parquet\"\n",
    "metadata = spark.read.parquet(metadata_path)\n",
    "metadata = metadata.withColumn(\"PubMedID\", metadata[\"PubMedID\"].cast(StringType()))\n",
    "# metadata.to_parquet('final_metadata_combined_modified.parquet')\n",
    "metadata.count()"
   ]
  },
  {
   "cell_type": "code",
   "execution_count": 3,
   "id": "652c91e8-2385-41c4-9e51-d39caac1899d",
   "metadata": {
    "pycharm": {
     "name": "#%%\n"
    }
   },
   "outputs": [
    {
     "data": {
      "text/plain": [
       "1501254"
      ]
     },
     "execution_count": 3,
     "metadata": {},
     "output_type": "execute_result"
    }
   ],
   "source": [
    "relevance_score_path = '/home/ubuntu/mypetalibrary/pmoa-cite-dataset/aggregated_dateset/final_df_with_relevance_scores.parquet'\n",
    "relevance_score = spark.read.parquet(relevance_score_path)\n",
    "relevance_score.count()"
   ]
  },
  {
   "cell_type": "code",
   "execution_count": 4,
   "id": "e6cfcba3-88c6-4ca1-b645-9c2622ca9d73",
   "metadata": {
    "pycharm": {
     "name": "#%%\n"
    }
   },
   "outputs": [
    {
     "data": {
      "text/plain": [
       "Row(PubMedID='12414282', doi='https://doi.org/10.1006/nimg.2002.1267', title='Dysmyelination Revealed through MRI as Increased Radial (but Unchanged Axial) Diffusion of Water', abstract_inverted_index='Myelin loss and axonal damage are both observed in white matter injuries. Each may have significant impact on the long-term disability of patients. Currently, there does not exist a noninvasive biological marker that enables differentiation between myelin and axonal injury. We describe herein the use of magnetic resonance diffusion tensor imaging (DTI) to quantify the effect of dysmyelination on water directional diffusivities in brains of shiverer mice in vivo. The principal diffusion eigenvalues of eight axonal fiber tracts that can be identified with certainty on DTI maps were measured. The water diffusivity perpendicular to axonal fiber tracts, lambda(perpendicular), was significantly higher in shiverer mice compared with age-matched controls, reflecting the lack of myelin and the increased freedom of cross-fiber diffusion in white matter. The water diffusivity parallel to axonal fiber tracts, lambda(parallel), was not different, which is consistent with the presence of intact axons. It is clear that dysmyelination alone does not impact lambda(parallel). The presence of intact axons in the setting of incomplete myelination was confirmed by electron microscopy. Although further validation is still needed, our finding suggests that changes in lambda(perpendicular) and lambda(parallel) may potentially be used to differentiate myelin loss versus axonal injury.', publication_year=2002, cited_by_count=2355)"
      ]
     },
     "execution_count": 4,
     "metadata": {},
     "output_type": "execute_result"
    }
   ],
   "source": [
    "metadata.first()"
   ]
  },
  {
   "cell_type": "code",
   "execution_count": 5,
   "id": "c0297f9d-a031-4733-8754-4d56110569ae",
   "metadata": {
    "pycharm": {
     "name": "#%%\n"
    }
   },
   "outputs": [
    {
     "name": "stderr",
     "output_type": "stream",
     "text": [
      "                                                                                \r"
     ]
    },
    {
     "data": {
      "text/plain": [
       "Row(pmid='33313032', secid=0, paraid=0, sentid=1, sentence='More than 77 million Indians are at high-risk of T2DM—their blood glucose levels are higher than normal but lower than the established threshold for T2DM itself .', citations='21959957', relevance_score=3)"
      ]
     },
     "execution_count": 5,
     "metadata": {},
     "output_type": "execute_result"
    }
   ],
   "source": [
    "relevance_score.first()"
   ]
  },
  {
   "cell_type": "code",
   "execution_count": 6,
   "id": "b2417fd1-c57f-4038-b909-45aef5e60706",
   "metadata": {
    "pycharm": {
     "name": "#%%\n"
    }
   },
   "outputs": [],
   "source": [
    "combined_df = relevance_score.join(metadata, relevance_score.pmid == metadata.PubMedID, how='left')"
   ]
  },
  {
   "cell_type": "code",
   "execution_count": 7,
   "id": "56affcce-8201-4e3c-8cde-01e855029698",
   "metadata": {
    "pycharm": {
     "name": "#%%\n"
    }
   },
   "outputs": [
    {
     "name": "stderr",
     "output_type": "stream",
     "text": [
      "                                                                                \r"
     ]
    },
    {
     "data": {
      "text/plain": [
       "Row(pmid='33313032', secid=0, paraid=0, sentid=1, sentence='More than 77 million Indians are at high-risk of T2DM—their blood glucose levels are higher than normal but lower than the established threshold for T2DM itself .', citations='21959957', relevance_score=3, PubMedID='33313032', doi='https://doi.org/10.3389/fpubh.2020.548674', title='Development of a Yoga Program for Type-2 Diabetes Prevention (YOGA-DP) Among High-Risk People in India', abstract_inverted_index='Introduction: Many Indians are at high-risk of type-2 diabetes mellitus (T2DM). Yoga is an ancient Indian mind-body discipline, that has been associated with improved glucose levels and can help to prevent T2DM. The study aimed to systematically develop a Yoga program for T2DM prevention (YOGA-DP) among high-risk people in India using a complex intervention development approach. Materials and Methods: As part of the intervention, we developed a booklet and a high-definition video for participants and a manual for YOGA-DP instructors. A systematic iterative process was followed to develop the intervention and included five steps: (i) a systematic review of the literature to generate a list of Yogic practices that improves blood glucose levels among adults at high-risk of or with T2DM, (ii) validation of identified Yogic practices by Yoga experts, (iii) development of the intervention, (iv) consultation with Yoga, exercise, physical activity, diet, behavior change, and/or diabetes experts about the intervention, and (v) pretest the intervention among Yoga practitioners and lay people (those at risk of T2DM and had not practiced Yoga before) in India. Results: YOGA-DP is a structured lifestyle education and exercise program, provided over a period of 24 weeks. The exercise part is based on Yoga and includes Shithilikarana Vyayama (loosening exercises), Surya Namaskar (sun salutation exercises), Asana (Yogic poses), Pranayama (breathing practices), and Dhyana (meditation) and relaxation practices. Once participants complete the program, they are strongly encouraged to maintain a healthy lifestyle in the long-term. Conclusions: We systematically developed a novel Yoga program for T2DM prevention (YOGA-DP) among high-risk people in India. A multi-center feasibility randomized controlled trial is in progress in India.', publication_year=2020, cited_by_count=10)"
      ]
     },
     "execution_count": 7,
     "metadata": {},
     "output_type": "execute_result"
    }
   ],
   "source": [
    "combined_df.first()"
   ]
  },
  {
   "cell_type": "code",
   "execution_count": 10,
   "id": "90ce3642-b456-4e97-ae4c-f7abb81215a5",
   "metadata": {
    "pycharm": {
     "name": "#%%\n"
    }
   },
   "outputs": [],
   "source": [
    "combined_df.columns\n",
    "combined_df = combined_df.withColumnRenamed('PubMedID', 'q_pmid') \\\n",
    "                         .withColumnRenamed('doi', 'q_doi') \\\n",
    "                         .withColumnRenamed('title', 'q_title') \\\n",
    "                         .withColumnRenamed('abstract_inverted_index', 'q_abstract') \\\n",
    "                         .withColumnRenamed('publication_year', 'q_publication_year') \\\n",
    "                         .withColumnRenamed('cited_by_count', 'q_cited_by_count')"
   ]
  },
  {
   "cell_type": "code",
   "execution_count": 11,
   "id": "ceeadb3e-edd8-4d37-bab0-bc89d91f7a71",
   "metadata": {
    "pycharm": {
     "name": "#%%\n"
    }
   },
   "outputs": [
    {
     "data": {
      "text/plain": [
       "['pmid',\n",
       " 'secid',\n",
       " 'paraid',\n",
       " 'sentid',\n",
       " 'sentence',\n",
       " 'citations',\n",
       " 'relevance_score',\n",
       " 'q_pmid',\n",
       " 'q_doi',\n",
       " 'q_title',\n",
       " 'q_abstract',\n",
       " 'q_publication_year',\n",
       " 'q_cited_by_count']"
      ]
     },
     "execution_count": 11,
     "metadata": {},
     "output_type": "execute_result"
    }
   ],
   "source": [
    "combined_df.columns"
   ]
  },
  {
   "cell_type": "code",
   "execution_count": 12,
   "id": "d2c35521-9b0d-42dc-8a0d-58635f3add4c",
   "metadata": {
    "pycharm": {
     "name": "#%%\n"
    }
   },
   "outputs": [],
   "source": [
    "combined_df_with_cited_data = combined_df.join(metadata, combined_df.citations == metadata.PubMedID, how='left')"
   ]
  },
  {
   "cell_type": "code",
   "execution_count": 14,
   "id": "a3e800e9-70a3-4dca-b755-81a82b84c8f3",
   "metadata": {
    "pycharm": {
     "name": "#%%\n"
    }
   },
   "outputs": [
    {
     "name": "stderr",
     "output_type": "stream",
     "text": [
      "                                                                                \r"
     ]
    },
    {
     "data": {
      "text/plain": [
       "Row(pmid='33313032', secid=0, paraid=0, sentid=1, sentence='More than 77 million Indians are at high-risk of T2DM—their blood glucose levels are higher than normal but lower than the established threshold for T2DM itself .', citations='21959957', relevance_score=3, q_pmid='33313032', q_doi='https://doi.org/10.3389/fpubh.2020.548674', q_title='Development of a Yoga Program for Type-2 Diabetes Prevention (YOGA-DP) Among High-Risk People in India', q_abstract='Introduction: Many Indians are at high-risk of type-2 diabetes mellitus (T2DM). Yoga is an ancient Indian mind-body discipline, that has been associated with improved glucose levels and can help to prevent T2DM. The study aimed to systematically develop a Yoga program for T2DM prevention (YOGA-DP) among high-risk people in India using a complex intervention development approach. Materials and Methods: As part of the intervention, we developed a booklet and a high-definition video for participants and a manual for YOGA-DP instructors. A systematic iterative process was followed to develop the intervention and included five steps: (i) a systematic review of the literature to generate a list of Yogic practices that improves blood glucose levels among adults at high-risk of or with T2DM, (ii) validation of identified Yogic practices by Yoga experts, (iii) development of the intervention, (iv) consultation with Yoga, exercise, physical activity, diet, behavior change, and/or diabetes experts about the intervention, and (v) pretest the intervention among Yoga practitioners and lay people (those at risk of T2DM and had not practiced Yoga before) in India. Results: YOGA-DP is a structured lifestyle education and exercise program, provided over a period of 24 weeks. The exercise part is based on Yoga and includes Shithilikarana Vyayama (loosening exercises), Surya Namaskar (sun salutation exercises), Asana (Yogic poses), Pranayama (breathing practices), and Dhyana (meditation) and relaxation practices. Once participants complete the program, they are strongly encouraged to maintain a healthy lifestyle in the long-term. Conclusions: We systematically developed a novel Yoga program for T2DM prevention (YOGA-DP) among high-risk people in India. A multi-center feasibility randomized controlled trial is in progress in India.', q_publication_year=2020, q_cited_by_count=10, PubMedID='21959957', doi='https://doi.org/10.1007/s00125-011-2291-5', title='Prevalence of diabetes and prediabetes (impaired fasting glucose and/or impaired glucose tolerance) in urban and rural India: Phase I results of the Indian Council of Medical Research–INdia DIABetes (ICMR–INDIAB) study', abstract_inverted_index='This study reports the results of the first phase of a national study to determine the prevalence of diabetes and prediabetes (impaired fasting glucose and/or impaired glucose tolerance) in India. A total of 363 primary sampling units (188 urban, 175 rural), in three states (Tamilnadu, Maharashtra and Jharkhand) and one union territory (Chandigarh) of India were sampled using a stratified multistage sampling design to survey individuals aged ≥20 years. The prevalence rates of diabetes and prediabetes were assessed by measurement of fasting and 2 h post glucose load capillary blood glucose. Of the 16,607 individuals selected for the study, 14,277 (86%) participated, of whom 13,055 gave blood samples. The weighted prevalence of diabetes (both known and newly diagnosed) was 10.4% in Tamilnadu, 8.4% in Maharashtra, 5.3% in Jharkhand, and 13.6% in Chandigarh. The prevalences of prediabetes (impaired fasting glucose and/or impaired glucose tolerance) were 8.3%, 12.8%, 8.1% and 14.6% respectively. Multiple logistic regression analysis showed that age, male sex, family history of diabetes, urban residence, abdominal obesity, generalised obesity, hypertension and income status were significantly associated with diabetes. Significant risk factors for prediabetes were age, family history of diabetes, abdominal obesity, hypertension and income status. We estimate that, in 2011, Maharashtra will have 6 million individuals with diabetes and 9.2 million with prediabetes, Tamilnadu will have 4.8 million with diabetes and 3.9 million with prediabetes, Jharkhand will have 0.96 million with diabetes and 1.5 million with prediabetes, and Chandigarh will have 0.12 million with diabetes and 0.13 million with prediabetes. Projections for the whole of India would be 62.4 million people with diabetes and 77.2 million people with prediabetes.', publication_year=2011, cited_by_count=647)"
      ]
     },
     "execution_count": 14,
     "metadata": {},
     "output_type": "execute_result"
    }
   ],
   "source": [
    "combined_df_with_cited_data.first()"
   ]
  },
  {
   "cell_type": "code",
   "execution_count": 17,
   "id": "749864a5-ed49-45a8-9575-162535eb91aa",
   "metadata": {
    "pycharm": {
     "name": "#%%\n"
    }
   },
   "outputs": [],
   "source": [
    "combined_df_with_cited_data.columns\n",
    "combined_df_with_cited_data = combined_df_with_cited_data.withColumnRenamed('PubMedID', 'c_pmid') \\\n",
    "                                                         .withColumnRenamed('doi', 'c_doi') \\\n",
    "                                                         .withColumnRenamed('title', 'c_title') \\\n",
    "                                                         .withColumnRenamed('abstract_inverted_index', 'c_abstract') \\\n",
    "                                                         .withColumnRenamed('publication_year', 'c_publication_year') \\\n",
    "                                                         .withColumnRenamed('cited_by_count', 'c_cited_by_count')"
   ]
  },
  {
   "cell_type": "code",
   "execution_count": 19,
   "id": "b3263217-ab40-453c-9131-e6e641ee8989",
   "metadata": {
    "pycharm": {
     "name": "#%%\n"
    }
   },
   "outputs": [
    {
     "data": {
      "text/plain": [
       "1501454"
      ]
     },
     "execution_count": 19,
     "metadata": {},
     "output_type": "execute_result"
    }
   ],
   "source": [
    "combined_df_with_cited_data.count()"
   ]
  },
  {
   "cell_type": "code",
   "execution_count": 20,
   "id": "3d6e6fd5-51a5-4790-b33d-ef5fd7257d0b",
   "metadata": {
    "pycharm": {
     "name": "#%%\n"
    }
   },
   "outputs": [
    {
     "name": "stderr",
     "output_type": "stream",
     "text": [
      "                                                                                \r"
     ]
    }
   ],
   "source": [
    "combined_df_with_q_c_metadata = '/home/ubuntu/mypetalibrary/pmoa-cite-dataset/aggregated_dateset/combined_pubmed.parquet'\n",
    "combined_df_with_cited_data.write.parquet(combined_df_with_q_c_metadata)"
   ]
  },
  {
   "cell_type": "code",
   "execution_count": 21,
   "id": "ada01e3e-f820-4f67-8093-716d48c41672",
   "metadata": {
    "pycharm": {
     "name": "#%%\n"
    }
   },
   "outputs": [
    {
     "data": {
      "text/plain": [
       "1501454"
      ]
     },
     "execution_count": 21,
     "metadata": {},
     "output_type": "execute_result"
    }
   ],
   "source": [
    "combined_df_with_q_c_metadata = '/home/ubuntu/mypetalibrary/pmoa-cite-dataset/aggregated_dateset/combined_pubmed.parquet'\n",
    "combined_df_read = spark.read.parquet(combined_df_with_q_c_metadata)\n",
    "combined_df_read.count()"
   ]
  },
  {
   "cell_type": "code",
   "execution_count": 25,
   "id": "c0f34a14-336a-4110-b9c7-d08214bca9e4",
   "metadata": {
    "pycharm": {
     "name": "#%%\n"
    }
   },
   "outputs": [
    {
     "data": {
      "text/plain": [
       "'Abstract Proteins, made up of either single or multiple chains, are designed to carry out specific biological functions. We found an interesting example of a two-chain protein where administration of one of its chains leads to a diametrically opposite outcome than that reported for the full-length protein. Clusterin is a highly glycosylated protein consisting of two chains, α- and β-clusterin. We have investigated the conformational features, cellular localization, lipid accumulation, in vivo effects and histological changes upon administration of recombinant individual chains of clusterin. We demonstrate that recombinant α- and β-chains exhibit structural and functional differences and differ in their sub-cellular localization. Full-length clusterin is known to lower lipid levels. In contrast, we find that β-chain-treated cells accumulate 2-fold more lipid than controls. Interestingly, α-chain-treated cells do not show such increase. Rabbits injected with β-chain, but not α-chain, show ~40% increase in weight, with adipocyte hypertrophy, liver and kidney steatosis. Many, sometimes contrasting, roles are ascribed to clusterin in obesity, metabolic syndrome and related conditions. Our findings of differential localization and activities of individual chains of clusterin should help in understanding better the roles of clusterin in metabolism.'"
      ]
     },
     "execution_count": 25,
     "metadata": {},
     "output_type": "execute_result"
    }
   ],
   "source": [
    "entry = combined_df_read.first()\n",
    "entry.q_abstract"
   ]
  }
 ],
 "metadata": {
  "kernelspec": {
   "display_name": "Python 3 (ipykernel)",
   "language": "python",
   "name": "python3"
  },
  "language_info": {
   "codemirror_mode": {
    "name": "ipython",
    "version": 3
   },
   "file_extension": ".py",
   "mimetype": "text/x-python",
   "name": "python",
   "nbconvert_exporter": "python",
   "pygments_lexer": "ipython3",
   "version": "3.10.12"
  }
 },
 "nbformat": 4,
 "nbformat_minor": 5
}