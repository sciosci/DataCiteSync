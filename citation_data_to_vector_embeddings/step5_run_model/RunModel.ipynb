{
 "cells": [
  {
   "cell_type": "code",
   "execution_count": 2,
   "id": "1c60cf98-5bfa-4781-bfb8-f58d34388b18",
   "metadata": {},
   "outputs": [
    {
     "name": "stderr",
     "output_type": "stream",
     "text": [
      "Warning: Ignoring non-Spark config property: hive.exec.scratchdir\n",
      "Setting default log level to \"WARN\".\n",
      "To adjust logging level use sc.setLogLevel(newLevel). For SparkR, use setLogLevel(newLevel).\n",
      "24/04/29 20:49:56 WARN NativeCodeLoader: Unable to load native-hadoop library for your platform... using builtin-java classes where applicable\n",
      "24/04/29 20:49:56 WARN SparkConf: Note that spark.local.dir will be overridden by the value set by the cluster manager (via SPARK_LOCAL_DIRS in mesos/standalone/kubernetes and LOCAL_DIRS in YARN).\n"
     ]
    }
   ],
   "source": [
    "from pyspark.sql import SparkSession\n",
    "spark_path = \"/home/shsa3327\"\n",
    "spark = SparkSession.builder\\\n",
    "    .config('spark.driver.memory', '40g')\\\n",
    "    .config('spark.executor.memory', '20g')\\\n",
    "    .config('spark.executor.cores', '30')\\\n",
    "    .config('spark.local.dir', f'{spark_path}/tmp') \\\n",
    "    .config('spark.driver.maxResultSize', '40g')\\\n",
    "    .config(\"spark.driver.bindAddress\", \"0.0.0.0\")\\\n",
    "    .config(\"spark.sql.parquet.columnarReaderBatchSize\", \"1024\") \\\n",
    "    .config(\"spark.sql.parquet.enableVectorizedReader\", \"true\") \\\n",
    "    .config('spark.driver.extraJavaOptions', f'-Djava.io.tmpdir={spark_path}/tmp') \\\n",
    "    .config('spark.executor.extraJavaOptions', f'-Djava.io.tmpdir={spark_path}/tmp') \\\n",
    "    .config('hive.exec.scratchdir', f'{spark_path}/tmp/hive') \\\n",
    "    .enableHiveSupport() \\\n",
    "    .getOrCreate()"
   ]
  },
  {
   "cell_type": "code",
   "execution_count": null,
   "id": "f9f51e8d-8eec-4bc4-aa09-b769a9ab2e89",
   "metadata": {},
   "outputs": [],
   "source": []
  },
  {
   "cell_type": "code",
   "execution_count": 3,
   "id": "9ec0b81f-3ad1-403a-a4d6-3709c129699b",
   "metadata": {
    "collapsed": true,
    "jupyter": {
     "outputs_hidden": true
    }
   },
   "outputs": [
    {
     "data": {
      "text/plain": [
       "572227"
      ]
     },
     "execution_count": 3,
     "metadata": {},
     "output_type": "execute_result"
    }
   ],
   "source": [
    "embeddings_file = 'data.parquet'\n",
    "embeddings_file_read = spark.read.parquet(embeddings_file)\n",
    "embeddings_file_read.count()"
   ]
  },
  {
   "cell_type": "code",
   "execution_count": 29,
   "id": "df86b6bf-2aa8-4c0f-808b-44bf240b9408",
   "metadata": {},
   "outputs": [
    {
     "name": "stderr",
     "output_type": "stream",
     "text": [
      "24/04/29 20:56:51 WARN SparkStringUtils: Truncated the string representation of a plan since it was too large. This behavior can be adjusted by setting 'spark.sql.debug.maxToStringFields'.\n",
      "                                                                                \r"
     ]
    },
    {
     "name": "stdout",
     "output_type": "stream",
     "text": [
      "+-------+--------------------+-------------------+--------------------+-------------------+-------------------+-------------------+--------------------+------------------+-----------------+-----------------+------------------+------------------+------+------------------+\n",
      "|summary|                   0|                  1|                   2|                  3|                  4|                  5|                   6|                 7|                8|                9|                10|                11|    12|                13|\n",
      "+-------+--------------------+-------------------+--------------------+-------------------+-------------------+-------------------+--------------------+------------------+-----------------+-----------------+------------------+------------------+------+------------------+\n",
      "|  count|              442512|             572227|              572227|             572227|             572227|             572227|              572227|            572227|           572227|           572227|            572227|            572227|572227|            572227|\n",
      "|   mean|2.8466101162402377E7|0.20947768038874534| 0.20214390570148452| 0.2133825090932021|0.23171123316268058| 0.1674774206694064|  0.1656658993639074|-295.9163688536193|78.36880119253374|88.05298421780168|1193.1253016722385|1370.7392083910756|   0.0|0.9937717024886976|\n",
      "| stddev|  4702972.8342016395| 0.2921589173846595|  0.3019669914616074|  0.293342518845053|0.32446324511484637|0.21259540684118433| 0.20877618465540607|1144.7430040169138|58.62193461767711| 49.7867234237139| 942.3264237604818| 2098.641944375167|   0.0|1.0011228787687623|\n",
      "|    min|            15226779|-0.2577741742134094|-0.26871126890182495|-0.2880242168903351| -0.267591267824173|-0.2528115212917328|-0.29403528571128845|             -2023|                0|                0|                 0|                 0|     0|                 0|\n",
      "|    max|            36052432|  1.000000238418579|  1.0000001192092896| 1.0000001192092896|  1.000000238418579| 0.9215954542160034|  0.9994787573814392|              2022|              259|              500|             17591|             50890|     0|                 3|\n",
      "+-------+--------------------+-------------------+--------------------+-------------------+-------------------+-------------------+--------------------+------------------+-----------------+-----------------+------------------+------------------+------+------------------+\n",
      "\n"
     ]
    }
   ],
   "source": [
    "embeddings_file_read.describe().show()"
   ]
  },
  {
   "cell_type": "code",
   "execution_count": 31,
   "id": "a5d5a8c6-7db0-44f5-9629-e84f46083802",
   "metadata": {},
   "outputs": [
    {
     "data": {
      "text/plain": [
       "['0', '1', '2', '3', '4', '5', '6', '7', '8', '9', '10', '11', '12', '13']"
      ]
     },
     "execution_count": 31,
     "metadata": {},
     "output_type": "execute_result"
    }
   ],
   "source": [
    "embeddings_file_read.columns"
   ]
  },
  {
   "cell_type": "code",
   "execution_count": 34,
   "id": "f6b13f91-046c-4e66-bb0d-6e33d44ee041",
   "metadata": {},
   "outputs": [
    {
     "name": "stdout",
     "output_type": "stream",
     "text": [
      "Null count in column 0 is 129715\n",
      "Null count in column 1 is 0\n",
      "Null count in column 2 is 0\n",
      "Null count in column 3 is 0\n",
      "Null count in column 4 is 0\n",
      "Null count in column 5 is 0\n",
      "Null count in column 6 is 0\n",
      "Null count in column 7 is 0\n",
      "Null count in column 8 is 0\n",
      "Null count in column 9 is 0\n",
      "Null count in column 10 is 0\n",
      "Null count in column 11 is 0\n",
      "Null count in column 12 is 0\n",
      "Null count in column 13 is 0\n"
     ]
    }
   ],
   "source": [
    "from pyspark.sql.functions import col, count, when, isnull\n",
    "for _col in embeddings_file_read.columns:\n",
    "    null_count = embeddings_file_read.filter(col(_col).isNull()).count()\n",
    "    print(f\"Null count in column {_col} is {null_count}\")"
   ]
  },
  {
   "cell_type": "code",
   "execution_count": 35,
   "id": "3ad7cc5c-2982-4484-aa9c-5b9c2d05578e",
   "metadata": {},
   "outputs": [],
   "source": [
    "# Filter out null values : @todo : Fix this issue\n",
    "embeddings_file_read_filtered = embeddings_file_read.filter(col(\"0\").isNotNull())"
   ]
  },
  {
   "cell_type": "code",
   "execution_count": 36,
   "id": "91d3a20a-5101-4f1f-b445-412eb27075d8",
   "metadata": {},
   "outputs": [
    {
     "data": {
      "text/plain": [
       "442512"
      ]
     },
     "execution_count": 36,
     "metadata": {},
     "output_type": "execute_result"
    }
   ],
   "source": [
    "embeddings_file_read_filtered.count()"
   ]
  },
  {
   "cell_type": "code",
   "execution_count": 37,
   "id": "396b19ba-df7f-4d6c-8248-2c70d2c932d1",
   "metadata": {},
   "outputs": [],
   "source": [
    "from collections import defaultdict\n",
    "\n",
    "rows = embeddings_file_read_filtered.collect()\n",
    "embedded_groups = defaultdict(list)\n",
    "\n",
    "for row in rows:\n",
    "    embedded_groups[row[0]].append(list(row[1:]))"
   ]
  },
  {
   "cell_type": "code",
   "execution_count": 38,
   "id": "e7e51c38-3ae2-4fd2-853c-b7100521f8e0",
   "metadata": {},
   "outputs": [],
   "source": [
    "# Divide into test and train groups\n",
    "test_size = 0.2\n",
    "test_groups_size = int(len(embedded_groups)*test_size)\n",
    "train_groups_size = len(embedded_groups)-test_groups_size\n",
    "test_groups = list(embedded_groups.keys())[:test_groups_size]\n",
    "train_groups = list(embedded_groups.keys())[test_groups_size:]"
   ]
  },
  {
   "cell_type": "code",
   "execution_count": 39,
   "id": "806b04a5-1940-4e3e-83a7-dba1574a5049",
   "metadata": {},
   "outputs": [
    {
     "data": {
      "text/plain": [
       "dict_items([(1, 27546), (3, 9332), (2, 17936), (0, 37320)])"
      ]
     },
     "execution_count": 39,
     "metadata": {},
     "output_type": "execute_result"
    }
   ],
   "source": [
    "from collections import Counter\n",
    "test_data =[]\n",
    "test_queries = []\n",
    "for test_group in test_groups:\n",
    "    for group in embedded_groups[test_group]:\n",
    "        test_data.append(group)\n",
    "        test_queries.append(test_group)\n",
    "X_test = [data[:-1] for data in test_data]\n",
    "y_test = [data[-1] for data in test_data]\n",
    "Counter(y_test).items()"
   ]
  },
  {
   "cell_type": "code",
   "execution_count": 40,
   "id": "35b80214-3f28-48cb-99b1-743ed40a1e60",
   "metadata": {},
   "outputs": [
    {
     "data": {
      "text/plain": [
       "dict_items([(0, 141632), (3, 35414), (2, 67941), (1, 105391)])"
      ]
     },
     "execution_count": 40,
     "metadata": {},
     "output_type": "execute_result"
    }
   ],
   "source": [
    "train_data =[]\n",
    "train_queries = []\n",
    "for train_group in train_groups:\n",
    "    for group in embedded_groups[train_group]:\n",
    "        train_data.append(group)\n",
    "        train_queries.append(train_group)\n",
    "X_train = [data[:-1] for data in train_data]\n",
    "y_train = [data[-1] for data in train_data]\n",
    "Counter(y_train).items()"
   ]
  },
  {
   "cell_type": "code",
   "execution_count": 8,
   "id": "70a465d2-27b4-49f5-a4cd-8615ac8519b4",
   "metadata": {},
   "outputs": [
    {
     "data": {
      "text/plain": [
       "[1, 1, 1, 1, 1, 1, 1, 1, 1, 1]"
      ]
     },
     "execution_count": 8,
     "metadata": {},
     "output_type": "execute_result"
    }
   ],
   "source": [
    "y_train[130:140]"
   ]
  },
  {
   "cell_type": "code",
   "execution_count": 41,
   "id": "1063fcce-be34-4668-add0-b5adb628d071",
   "metadata": {},
   "outputs": [
    {
     "name": "stdout",
     "output_type": "stream",
     "text": [
      "3\n"
     ]
    }
   ],
   "source": [
    "import numpy as np\n",
    "max_relevance = max(np.max(y_train),np.max(y_test))\n",
    "print(max_relevance)\n",
    "y_train /= max_relevance\n",
    "y_test /= max_relevance"
   ]
  },
  {
   "cell_type": "code",
   "execution_count": 10,
   "id": "d0d5f666-3ef0-4154-bcaf-6457443a83ef",
   "metadata": {},
   "outputs": [
    {
     "data": {
      "text/plain": [
       "[[0.10751860588788986,\n",
       "  0.08733455091714859,\n",
       "  0.09396737068891525,\n",
       "  0.058277860283851624,\n",
       "  0.06814789772033691,\n",
       "  0.09721718728542328,\n",
       "  12,\n",
       "  89,\n",
       "  97,\n",
       "  676,\n",
       "  2658,\n",
       "  0],\n",
       " [0.00875704362988472,\n",
       "  0.00875704362988472,\n",
       "  -0.05622100085020065,\n",
       "  -0.05622100085020065,\n",
       "  -0.011902314610779285,\n",
       "  -0.011902314610779285,\n",
       "  2021,\n",
       "  89,\n",
       "  0,\n",
       "  676,\n",
       "  0,\n",
       "  0],\n",
       " [0.00875704362988472,\n",
       "  0.00875704362988472,\n",
       "  -0.05622100085020065,\n",
       "  -0.05622100085020065,\n",
       "  -0.06730138510465622,\n",
       "  -0.06730138510465622,\n",
       "  2021,\n",
       "  89,\n",
       "  0,\n",
       "  676,\n",
       "  0,\n",
       "  0],\n",
       " [0.11539703607559204,\n",
       "  0.07943225651979446,\n",
       "  0.14079385995864868,\n",
       "  0.1621164083480835,\n",
       "  -0.07954061031341553,\n",
       "  0.014380712062120438,\n",
       "  3,\n",
       "  89,\n",
       "  144,\n",
       "  676,\n",
       "  1643,\n",
       "  0],\n",
       " [0.0347573384642601,\n",
       "  -0.05417788028717041,\n",
       "  0.03712962195277214,\n",
       "  0.016498995944857597,\n",
       "  0.02730901539325714,\n",
       "  0.002647528424859047,\n",
       "  0,\n",
       "  89,\n",
       "  141,\n",
       "  676,\n",
       "  1066,\n",
       "  0]]"
      ]
     },
     "execution_count": 10,
     "metadata": {},
     "output_type": "execute_result"
    }
   ],
   "source": [
    "X_train[:5]"
   ]
  },
  {
   "cell_type": "code",
   "execution_count": 24,
   "id": "f4d984b2-beee-4922-a1ab-5cd5bb94f84e",
   "metadata": {},
   "outputs": [],
   "source": [
    "from catboost import CatBoostRanker, Pool, MetricVisualizer\n",
    "train = Pool(\n",
    "    data=X_train[:165],\n",
    "    label=y_train[:165],\n",
    "    group_id=train_queries[:165]\n",
    ")"
   ]
  },
  {
   "cell_type": "code",
   "execution_count": 23,
   "id": "ae7d5b4d-b71e-4b7e-9bee-db99b2f92274",
   "metadata": {},
   "outputs": [],
   "source": [
    "test = Pool(\n",
    "    data=X_test[:15],\n",
    "    label=y_test[:15],\n",
    "    group_id=test_queries[:15]\n",
    ")"
   ]
  },
  {
   "cell_type": "code",
   "execution_count": 42,
   "id": "6f3f6960-12b6-460b-86fb-9d93d577d513",
   "metadata": {},
   "outputs": [],
   "source": [
    "from catboost import CatBoostRanker, Pool, MetricVisualizer\n",
    "train = Pool(\n",
    "    data=X_train,\n",
    "    label=y_train,\n",
    "    group_id=train_queries\n",
    ")\n",
    "\n",
    "test = Pool(\n",
    "    data=X_test,\n",
    "    label=y_test,\n",
    "    group_id=test_queries\n",
    ")"
   ]
  },
  {
   "cell_type": "code",
   "execution_count": 43,
   "id": "0bbbb1a2-a001-46d7-860b-185f780b60d5",
   "metadata": {},
   "outputs": [],
   "source": [
    "default_parameters = {\n",
    "    'iterations': 2000,\n",
    "    'custom_metric': ['NDCG', 'PFound', 'AverageGain:top=10'],\n",
    "    'verbose': False,\n",
    "    'random_seed': 0,\n",
    "}\n",
    "\n",
    "parameters = {}"
   ]
  },
  {
   "cell_type": "code",
   "execution_count": 44,
   "id": "c1168b35-6189-40d4-be15-73f7cd1b9a66",
   "metadata": {},
   "outputs": [],
   "source": [
    "from copy import deepcopy\n",
    "def fit_model(loss_function, additional_params=None, train_pool=train, test_pool=test):\n",
    "    parameters = deepcopy(default_parameters)\n",
    "    parameters['loss_function'] = loss_function\n",
    "    parameters['train_dir'] = loss_function\n",
    "\n",
    "    if additional_params is not None:\n",
    "        parameters.update(additional_params)\n",
    "\n",
    "    model = CatBoostRanker(**parameters)\n",
    "    model.fit(train_pool, eval_set=test_pool, plot=True)\n",
    "\n",
    "    return model"
   ]
  },
  {
   "cell_type": "code",
   "execution_count": 45,
   "id": "db5ed9c7-78fd-4899-b6fb-12ba040ef7a9",
   "metadata": {},
   "outputs": [
    {
     "data": {
      "application/vnd.jupyter.widget-view+json": {
       "model_id": "01939ea71f7a4cbaa8197e439c4b35a1",
       "version_major": 2,
       "version_minor": 0
      },
      "text/plain": [
       "MetricVisualizer(layout=Layout(align_self='stretch', height='500px'))"
      ]
     },
     "metadata": {},
     "output_type": "display_data"
    },
    {
     "name": "stderr",
     "output_type": "stream",
     "text": [
      "Training has stopped (degenerate solution on iteration 1109, probably too small l2-regularization, try to increase it)\n"
     ]
    },
    {
     "data": {
      "text/plain": [
       "<catboost.core.CatBoostRanker at 0x7f1a3f4ee050>"
      ]
     },
     "execution_count": 45,
     "metadata": {},
     "output_type": "execute_result"
    }
   ],
   "source": [
    "fit_model('YetiRank', {'train_dir': 'YetiRank-lr-0.3', 'learning_rate': 0.3})"
   ]
  },
  {
   "cell_type": "code",
   "execution_count": 47,
   "id": "cb21c731-91c9-45b7-9598-feeb67187333",
   "metadata": {},
   "outputs": [
    {
     "data": {
      "application/vnd.jupyter.widget-view+json": {
       "model_id": "c937135b7aca4d039a820a49cf05f54b",
       "version_major": 2,
       "version_minor": 0
      },
      "text/plain": [
       "MetricVisualizer(layout=Layout(align_self='stretch', height='500px'))"
      ]
     },
     "metadata": {},
     "output_type": "display_data"
    },
    {
     "data": {
      "text/plain": [
       "<catboost.core.CatBoostRanker at 0x7f1a3f4edc90>"
      ]
     },
     "execution_count": 47,
     "metadata": {},
     "output_type": "execute_result"
    }
   ],
   "source": [
    "fit_model('YetiRankPairwise')"
   ]
  }
 ],
 "metadata": {
  "kernelspec": {
   "display_name": "Python 3 (ipykernel)",
   "language": "python",
   "name": "python3"
  },
  "language_info": {
   "codemirror_mode": {
    "name": "ipython",
    "version": 3
   },
   "file_extension": ".py",
   "mimetype": "text/x-python",
   "name": "python",
   "nbconvert_exporter": "python",
   "pygments_lexer": "ipython3",
   "version": "3.10.12"
  }
 },
 "nbformat": 4,
 "nbformat_minor": 5
}
